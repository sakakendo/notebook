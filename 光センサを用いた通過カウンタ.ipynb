{
 "cells": [
  {
   "cell_type": "markdown",
   "metadata": {},
   "source": [
    " <div style=\"text-align:center;\"> 光センサを用いた透過カウンタ</div>"
   ]
  },
  {
   "attachments": {
    "3.1.1.png": {
     "image/png": "[encoded data removed]"
    }
   },
   "cell_type": "markdown",
   "metadata": {},
   "source": [
    "1. 目的<br>\n",
    "   光センサを用いた透過カウンタの作成を通じて、回路設計の考え方を学ぶとともに、様々な回路の利用法と特性について学ぶ。\n",
    "1. 実験装置<br>\n",
    "    直流安定化電源、オシロスコープ、赤外線発光ダイオード、フォトトランジスタ、ボルテージコンパレータ、単安定マルチバイブレータ、抵抗、半固定抵抗、セラミックコンデンサ、コンデンサ\n",
    "1. 実験方法・結果<br>\n",
    "    1.　光センサの距離特性の測定\n",
    "        赤外発光ダイオードによって発生した赤外線を、フォトトランジスタによって受光する型の光センサを用いる。\n",
    "<style type=\"text/css\">\n",
    "<!--\n",
    "figure {\n",
    "    display: inline-block;\n",
    "    border: 1px dotted gray;\n",
    "    margin: 20px; /* adjust as needed */\n",
    "}\n",
    "figure img {\n",
    "    vertical-align: top;\n",
    "}\n",
    "figure figcaption {\n",
    "    border: 1px dotted blue;\n",
    "    text-align: center;\n",
    "}--></style>\n",
    "<figure id='3.1.1'>\n",
    "<img src=\"attachment:3.1.1.png\" alt=\"3.1.1.png\" style=\"width: 250px;\" align='left'/>\n",
    "<!--figcaption> 図3.1.1　光センサ回路</figcaption-->\n",
    "</figure>\n",
    "<br>\n",
    "\n",
    "|部品番号|部品名|規格|型番|\n",
    "|:--|--:|:--|:--:|\n",
    "|L1|赤外発光ダイオード||QSI5F111C-40|\n",
    "|Q1|フォトトランジスタ|||\n",
    "|Q1|抵抗|270Ω||\n",
    "|R2|抵抗|51kΩ||\n"
   ]
  },
  {
   "cell_type": "markdown",
   "metadata": {},
   "source": [
    "$$\n",
    "\\begin{align}\n",
    "V_{o} = A (v_1-v_2)\\\\\n",
    "v_o= \\left\\{\n",
    "\\begin{array}{ll}\n",
    "V^+ & (v_1 \\ge v_2) \\\\\n",
    "V^- & (v_1 \\lt v_2)\n",
    "\\end{array}\n",
    "\\right.\\\\\n",
    "v_t=E_{ref}+\\frac{R_1}{R_1+R_2} \\big( V_o-E_{ref}\\big)\n",
    "\\end{align}\n",
    "$$"
   ]
  },
  {
   "attachments": {
    "3.2.2.png": {
     "image/png": "[encoded data removed]"
    }
   },
   "cell_type": "markdown",
   "metadata": {},
   "source": [
    "<img src=\"attachment:3.2.2.png\" alt=\"3.2.2.png\"  align='left'/>"
   ]
  },
  {
   "cell_type": "markdown",
   "metadata": {},
   "source": [
    "|部品番号|部品名|規格|型番|\n",
    "|:--|--:|:--|:--:|\n",
    "|L1|赤外発光ダイオード||QSI5F111C-40|\n",
    "|Q1|フォトトランジスタ|||\n",
    "|Q1|抵抗|270Ω||\n",
    "|R2|抵抗|51kΩ||"
   ]
  },
  {
   "cell_type": "markdown",
   "metadata": {},
   "source": [
    "$$\n",
    "\\begin{align}\n",
    "V_{th} = E_{ref}\\\\\n",
    "f(x) = \\left\\{\n",
    "\\begin{array}{ll}\n",
    "1 & (x \\geq 0) \\\\\n",
    "0 & (x \\lt 0)\n",
    "\\end{array}\n",
    "\\right.\\\\\n",
    "\\frac{R_1}{R_1+R_2}\n",
    "\\end{align}\n",
    "$$"
   ]
  },
  {
   "cell_type": "markdown",
   "metadata": {},
   "source": [
    "<div style=\"text-align:center;\">\n",
    "$$\n",
    "m_+\n",
    "\\\\\n",
    "m^+\n",
    "$$\n",
    "    </div>"
   ]
  },
  {
   "attachments": {
    "3.1.1.png": {
     "image/png": "[encoded data removed]"
    }
   },
   "cell_type": "markdown",
   "metadata": {},
   "source": [
    "<img src=\"attachment:3.1.1.png\" alt=\"./3.1.1.png\" style=\"width: 200px;\"/>\n"
   ]
  },
  {
   "cell_type": "markdown",
   "metadata": {},
   "source": [
    "3.2. 光センサを用いた透過カウンタ(1)\n",
    "\n"
   ]
  },
  {
   "cell_type": "markdown",
   "metadata": {},
   "source": [
    "$$\n",
    "\\begin{align}\n",
    "\\sum_{k=1}^{\\infty} \\frac{1}{k^2} = \\frac{\\pi^2}{6}\n",
    "\\end{align}\n",
    "$$\n",
    "\n",
    "\n"
   ]
  }
 ],
 "metadata": {
  "kernelspec": {
   "display_name": "Python 3",
   "language": "python",
   "name": "python3"
  },
  "language_info": {
   "codemirror_mode": {
    "name": "ipython",
    "version": 3
   },
   "file_extension": ".py",
   "mimetype": "text/x-python",
   "name": "python",
   "nbconvert_exporter": "python",
   "pygments_lexer": "ipython3",
   "version": "3.5.3"
  }
 },
 "nbformat": 4,
 "nbformat_minor": 2
}
