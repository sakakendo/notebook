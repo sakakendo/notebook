{
  "nbformat": 4,
  "nbformat_minor": 0,
  "metadata": {
    "colab": {
      "name": "apm1-5.ipynb",
      "version": "0.3.2",
      "provenance": [],
      "collapsed_sections": []
    },
    "kernelspec": {
      "name": "python3",
      "display_name": "Python 3"
    }
  },
  "cells": [
    {
      "cell_type": "markdown",
      "metadata": {
        "id": "view-in-github",
        "colab_type": "text"
      },
      "source": [
        "[View in Colaboratory](https://colab.research.google.com/github/sakakendo0321/notebook/blob/master/apm1_5.ipynb)"
      ]
    },
    {
      "metadata": {
        "id": "8NcATLcARVJD",
        "colab_type": "text"
      },
      "cell_type": "markdown",
      "source": [
        ""
      ]
    },
    {
      "metadata": {
        "id": "3Y4gwzHpRYsq",
        "colab_type": "text"
      },
      "cell_type": "markdown",
      "source": [
        "[演習1]  \n",
        "(1)$-\\frac{1}{2}+j\\frac{\\sqrt{3}}{2}=e^{j\\frac{2\\pi}{3}}$  \n",
        "(2)$-\\frac{\\sqrt{2}}{2}+j\\frac{\\sqrt{2}}{2}=e^{j\\frac{5\\pi}{4}}$  \n",
        "[演習2]  \n",
        "(1)$\\theta=\\frac{3\\pi}{4}\\\\e^{j\\theta}=-j$  \n",
        "(2)$\\theta=\\frac{5\\pi}{3}\\\\e^{j\\theta}=\\frac{1}{2}-j\\frac{\\sqrt{3}}{2}$  \n",
        "[演習3]  \n",
        "$\\cos{\\theta}=\\frac{e^{j\\theta}+e^{-j\\theta}}{2}\\\\\\sin{\\theta}=\\frac{e^{j\\theta}-e^{-j\\theta}}{2}$  \n",
        "$\\cos{\\theta}+j\\sin{\\theta}=$\n",
        "\n"
      ]
    },
    {
      "metadata": {
        "id": "LCu4NA6YdxQz",
        "colab_type": "text"
      },
      "cell_type": "markdown",
      "source": [
        "[演習4]  \n",
        "(1)  \n",
        "$C_0=\\frac{1}{2}\\\\C_n=\\frac{2}{n\\pi}\\sin{\\frac{n}{2}}\\pi$  \n",
        "(2)  \n",
        "$f(t)=\\frac{1}{2}+\\frac{1}{\\pi}\\cdot\\{ e^{j\\pi t}+{e^{-j\\pi t}}\\}-\\frac{1}{3\\pi}\\cdot \\{ e^{j\\pi t}+e^{-j\\pi t}\\}+\\frac{1}{5\\pi}\\cdot \\{ e^{j\\pi t}+e^{-j\\pi t}\\}$  \n",
        "$C_{\\pm1}=\\frac{1}{\\pi}\\\\C_{\\pm2}=0\\\\C_{\\pm3}=-\\frac{1}{3\\pi}\\\\C_{\\pm4}=0\\\\C_5=\\frac{1}{5\\pi}$  \n",
        "(3)  \n",
        "\n",
        "(4)  \n",
        "[演習5]  \n",
        "(1)\n",
        "$C_n=$  \n",
        "(2)\n",
        "(3)\n",
        "(4)"
      ]
    },
    {
      "metadata": {
        "id": "ETzSAazrRTIe",
        "colab_type": "code",
        "colab": {}
      },
      "cell_type": "code",
      "source": [
        ""
      ],
      "execution_count": 0,
      "outputs": []
    }
  ]
}