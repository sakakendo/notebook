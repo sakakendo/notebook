{
  "nbformat": 4,
  "nbformat_minor": 0,
  "metadata": {
    "colab": {
      "name": "apm1-2.ipynb",
      "version": "0.3.2",
      "provenance": [],
      "collapsed_sections": []
    },
    "kernelspec": {
      "name": "python3",
      "display_name": "Python 3"
    }
  },
  "cells": [
    {
      "cell_type": "markdown",
      "metadata": {
        "id": "view-in-github",
        "colab_type": "text"
      },
      "source": [
        "[View in Colaboratory](https://colab.research.google.com/github/sakakendo0321/notebook/blob/master/apm1_2.ipynb)"
      ]
    },
    {
      "metadata": {
        "id": "-VnY6MuEFCNC",
        "colab_type": "text"
      },
      "cell_type": "markdown",
      "source": [
        "# 応用I(フーリエ) 課題3\n",
        "\n",
        "\n",
        "[演習3]  \n",
        "$ \n",
        "(1)\n",
        "\\left[\n",
        "    \\begin{array}{rrr}\n",
        "      2 \\\\\n",
        "      -2   \\\\ \n",
        "    \\end{array}\n",
        "  \\right]\\cdot\\left[\n",
        "    \\begin{array}{rrr}\n",
        "      3 \\\\\n",
        "      -4 \\\\ \n",
        "    \\end{array}\n",
        "  \\right]=6+8=14\\\\\n",
        "(2)\\left[\n",
        "    \\begin{array}{rrr}\n",
        "      \\frac{4}{5} \\\\\n",
        "      3   \\\\ \n",
        "      -\\frac{5}{2}\n",
        "    \\end{array}\n",
        "  \\right]\\cdot\\left[\n",
        "    \\begin{array}{rrr}\n",
        "      5 \\\\\n",
        "      1 \\\\ \n",
        "      6\\\\\n",
        "    \\end{array}\n",
        "  \\right]=4+3-15=-8\\\\\n",
        "  (3)\n",
        "\\left[\n",
        "    \\begin{array}{rrr}\n",
        "      -2 \\\\3\\\\ -5\\\\-4\\\\\n",
        "    \\end{array}\n",
        "  \\right]\\cdot\\left[\n",
        "    \\begin{array}{rrr}\n",
        "      4\\\\2\\\\-2\\\\2\n",
        "    \\end{array}\n",
        "  \\right]=-8+6+10-8=0\\\\\n",
        "  $\n",
        "\n",
        " \n"
      ]
    },
    {
      "metadata": {
        "id": "4wFf8iGYWuFK",
        "colab_type": "text"
      },
      "cell_type": "markdown",
      "source": [
        " [演習4]   \n",
        " $ \\frac{1}{\\sqrt{4^2+5^2}}\\left[\\begin{array}{rrr} 4 \\\\5\\end{array}\\right]=\\frac{1}{\\sqrt{41}}\\left[\\begin{array}{rrr} 4 \\\\5\\end{array}\\right]\\\\\n",
        " \\frac{1}{\\sqrt{\\frac{2}{5}^2+2^2}}\\left[\\begin{array}{rrr} -\\frac{5}{2} \\\\2\\end{array}\\right]=\\frac{1}{\\sqrt{\\frac{104}{25}}}\\left[\\begin{array}{rrr} -\\frac{5}{2} \\\\2\\end{array}\\right]$"
      ]
    },
    {
      "metadata": {
        "id": "kcq9HQZtW1Hy",
        "colab_type": "text"
      },
      "cell_type": "markdown",
      "source": [
        " [演習5]   \n",
        " $ \\left[\\begin{array}{rrr} \\frac{\\sqrt{2}}{2} \\\\ \\frac{\\sqrt{2}}{2} \\\\ 0\\end{array}\\right] \\left[\\begin{array}{rrr} -\\frac{\\sqrt{2}}{2} \\\\ \\frac{\\sqrt{2}}{2} \\\\ 0\\end{array}\\right]\n",
        " \\left[\\begin{array}{rrr} 0 \\\\ 0 \\\\ 1\\end{array}\\right]\\\\$"
      ]
    },
    {
      "metadata": {
        "id": "hYw3nD1-aU2M",
        "colab_type": "text"
      },
      "cell_type": "markdown",
      "source": [
        "[演習6]  \n",
        "\n",
        "\\begin{eqnarray}\n",
        "u_1 &=& \\left[ \\begin{array}{c} \\frac{1}{2} \\\\ \\frac{\\sqrt{3}}{2} \\end{array} \\right], \n",
        " u_2=\\left[ \\begin{array}{c} -\\frac{\\sqrt{3}}{2}\\\\ \\frac{1}{2} \\end{array} \\right],g=\\left[\\begin{array}{c}2 \\\\-2\\end{array}\\right]\\\\\n",
        " g&=&\\alpha_1\\cdot u_1+\\alpha_2\\cdot u_2\\\\\n",
        " \\alpha_1&=&g\\cdot u_1=\\left[\\begin{array}{c}2 \\\\-2\\end{array}\\right] \\cdot\\left[ \\begin{array}{c} \\frac{1}{2} \\\\ \\frac{\\sqrt{3}}{2} \\end{array} \\right]&=1-\\sqrt{3}\\\\\n",
        "  \\alpha_2&=&g\\cdot u_2 =\\left[\\begin{array}{c}2 \\\\-2\\end{array}\\right] \\cdot\\left[ \\begin{array}{c} -\\frac{\\sqrt{3}}{2} \\\\ \\frac{1}{2} \\end{array}\\right]&=-\\sqrt{3}-1\n",
        "$\\end{eqnarray}"
      ]
    },
    {
      "metadata": {
        "id": "LVBEQcY1YKUJ",
        "colab_type": "text"
      },
      "cell_type": "markdown",
      "source": [
        "[演習7]  \n",
        "$\n",
        "\\begin{eqnarray}\n",
        "g&=&\\alpha_1 \\cdot u_1+\\alpha_2 \\cdot u_2\\\\\n",
        "&=&\\{1-\\sqrt{3}\\} \\left[ \\begin{array}{c} \\frac{1}{2} \\\\ \\frac{\\sqrt{3}}{2} \\end{array} \\right]+\\{-\\sqrt{3}-1\\} \\left[ \\begin{array}{c} -\\frac{\\sqrt{3}}{2} \\\\ \\frac{1}{2} \\end{array} \\right]\\\\\n",
        "&=& \\left[ \\begin{array}{c} \\{1-\\sqrt{3}\\}\\cdot \\frac{1}{2} +\\{ -\\sqrt{3}-1  \\}\\cdot-\\frac{\\sqrt{3}}{2}  \\\\ \\{1-\\sqrt{3}\\}\\cdot \\frac{\\sqrt{3}}{2} +\\{ -\\sqrt{3}-1  \\}\\cdot\\frac{1}{2} \\end{array} \\right]\\\\\n",
        "&=&\\begin{bmatrix} \\frac{1}{2}\\cdot\\{ 1-\\sqrt{3}+3+\\sqrt{3} \\}  \\\\ \\frac{1}{2} \\cdot \\{ \\sqrt{3} -3-\\sqrt{3}-1\\}\\end{bmatrix}\\\\\n",
        "&=&\\begin{bmatrix} 2 \\\\-2\\end{bmatrix}\\\\\n",
        "\\end{eqnarray}\n",
        "$"
      ]
    },
    {
      "metadata": {
        "id": "is977xlNWyLi",
        "colab_type": "text"
      },
      "cell_type": "markdown",
      "source": [
        " \n",
        " \n",
        " [プログラミング演習]  \n",
        "下記それぞれを手計算で行った後，プログラミングで確認しなさい．  \n",
        "・[演習5]で用意した正規直交なベクトルを利用し，あるベクトルに対応する成分を求めなさい．  \n",
        "\n",
        "\\begin{equation}\n",
        "\\begin{bmatrix}\n",
        "2 \\\\-1 \\\\ 1\n",
        "\\end{bmatrix}\n",
        "\\end{equation}\n",
        "\n",
        "$\n",
        "\\begin{bmatrix} 2 2\\end{bmatrix}\n",
        "$\n",
        "\n",
        "\n",
        "```python\n",
        "import numpy as np\n",
        "a=np.array([1,0,0])\n",
        "np.dot(a,np.array([1,1,1]))\n",
        "print(np.linalg.norm(a))\n",
        "```\n",
        "\n",
        "\n",
        "手計算：  \n",
        "プログラム結果：  \n",
        "\n",
        "・正規直交なベクトルと対応する成分を用い，あるベクトルに戻るかを確認しなさい．  \n",
        "手計算：  \n",
        "プログラム結果： "
      ]
    },
    {
      "metadata": {
        "id": "GAScup8HgLgu",
        "colab_type": "text"
      },
      "cell_type": "markdown",
      "source": [
        "$\\begin{equation}\n",
        "  x^2 - 6x + 1 = 0\n",
        "\\end{equation}\n",
        "\n",
        "\\setcounter{equation}{0}\n",
        "\n",
        "\\begin{eqnarray}\n",
        "  2x_1 + x_2 & = & 5 \\\\\n",
        "  2x_2 & = & 2\\\\\n",
        "   &=&x_3\n",
        "\\end{eqnarray}$"
      ]
    },
    {
      "metadata": {
        "id": "Xf2NblM6mBBe",
        "colab_type": "text"
      },
      "cell_type": "markdown",
      "source": [
        "この数式は$f(x)=ax^2+bx+c=0$であらわされる\n",
        "この数式は以下の式で表される\n",
        "\\begin{equation}\n",
        "f(x)\\\\ &=&ax^2+bx+c =0\n",
        "\\end{equation}\n",
        "$f(x)\\\\ &=ax^2+bx+c\\\\ &=0$"
      ]
    }
  ]
}